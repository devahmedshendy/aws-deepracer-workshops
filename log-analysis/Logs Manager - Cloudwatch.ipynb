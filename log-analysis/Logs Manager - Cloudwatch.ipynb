{
 "cells": [
  {
   "cell_type": "markdown",
   "metadata": {},
   "source": [
    "# Cloudwatch Logs Manager\n",
    "\n",
    "## Description\n",
    "This notebook is for managing deepracer logs stored in AWS Cloudwatch.\n",
    "\n",
    "You can do the following:\n",
    "- You can download logs from all cloudwatch log groups, or from specific log group.\n",
    "- You can generate analysis notebook for some logs, so you don't have to lost your analysis.\n",
    "  Btw, notebooks are executed by command line after generated.\n",
    "- You can delete log entry from `cloudwatch_logs.csv`.\n",
    "- You can load log entries for all cloudwatch types or specific type from `cloudwatch_logs.csv`."
   ]
  },
  {
   "cell_type": "code",
   "execution_count": 2,
   "metadata": {},
   "outputs": [
    {
     "name": "stdout",
     "output_type": "stream",
     "text": [
      "INFO: Installed boto version meets the minimum requirements, '1.9.196' >= '1.9.133'\n"
     ]
    }
   ],
   "source": [
    "# Python Module Imports\n",
    "import sys\n",
    "\n",
    "from datetime import datetime\n",
    "\n",
    "# Data Analysis Modules\n",
    "import numpy as np\n",
    "import pandas as pd\n",
    "pd.DataFrame\n",
    "# Plotting Modules Imports\n",
    "import matplotlib.pyplot as plt\n",
    "%matplotlib inline\n",
    "\n",
    "# Shapely Module Imports\n",
    "from shapely.geometry import Point, Polygon\n",
    "from shapely.geometry.polygon import LinearRing, LineString\n",
    "\n",
    "# Custom Module Imports\n",
    "import track_utils as tu\n",
    "import log_analysis as la\n",
    "import cw_utils as cw\n",
    "import log_manager as lm\n",
    "\n",
    "# Make sure your boto version is >= '1.9.133'\n",
    "lm.validate_boto_version()"
   ]
  },
  {
   "cell_type": "code",
   "execution_count": 3,
   "metadata": {},
   "outputs": [],
   "source": [
    "def reload_custom_modules():\n",
    "    \"\"\" Reload custom modules (ex: cw_utils) in case any changes is done to them \"\"\"\n",
    "    \n",
    "    import importlib\n",
    "\n",
    "    importlib.reload(la)\n",
    "    importlib.reload(lm)\n",
    "    importlib.reload(cw)\n",
    "    importlib.reload(tu)"
   ]
  },
  {
   "cell_type": "code",
   "execution_count": 4,
   "metadata": {},
   "outputs": [],
   "source": [
    "reload_custom_modules()"
   ]
  },
  {
   "cell_type": "markdown",
   "metadata": {},
   "source": [
    "## Download Logs from Cloudwatch, Collect Data and Store It in `cloudwatch_logs.csv`"
   ]
  },
  {
   "cell_type": "markdown",
   "metadata": {},
   "source": [
    "- **`All` Log Groups (Sagemaker, Robomaker, Leaderboard)**"
   ]
  },
  {
   "cell_type": "code",
   "execution_count": null,
   "metadata": {},
   "outputs": [],
   "source": [
    "lm.fetch_all_logs_from_cloudwatch(\n",
    "    from_date=\"2019-10-10 00:00\", \n",
    "    to_date=\"2019-10-16 23:00\",\n",
    ")"
   ]
  },
  {
   "cell_type": "markdown",
   "metadata": {},
   "source": [
    "- **`Sagemaker` Log Group** (Not Implemented Yet)"
   ]
  },
  {
   "cell_type": "code",
   "execution_count": 693,
   "metadata": {
    "scrolled": true
   },
   "outputs": [],
   "source": [
    "# lm.fetch_sagemaker_logs_from_cloudwatch(\n",
    "#     from_date=\"2019-10-16 16:00\", \n",
    "#     to_date=\"2019-10-16 16:30\"\n",
    "# )"
   ]
  },
  {
   "cell_type": "markdown",
   "metadata": {},
   "source": [
    "- **`Robomaker` Log Group**"
   ]
  },
  {
   "cell_type": "code",
   "execution_count": 240,
   "metadata": {},
   "outputs": [],
   "source": [
    "lm.fetch_robomaker_logs_from_cloudwatch(\n",
    "    from_date=\"2019-09-08 06:22\", \n",
    "    to_date=\"2019-09-08 14:00\",\n",
    ")"
   ]
  },
  {
   "cell_type": "code",
   "execution_count": 286,
   "metadata": {},
   "outputs": [],
   "source": [
    "lm.fetch_robomaker_logs_from_cloudwatch(\n",
    "    log_ids=['sim-ppdbxz743ydd']\n",
    ")"
   ]
  },
  {
   "cell_type": "markdown",
   "metadata": {},
   "source": [
    "- **`Leaderboard` Log Group**"
   ]
  },
  {
   "cell_type": "code",
   "execution_count": 176,
   "metadata": {},
   "outputs": [],
   "source": [
    "lm.fetch_leaderboard_logs_from_cloudwatch(\n",
    "    from_date=\"2019-10-16 16:00\", \n",
    "    to_date=\"2019-10-16 16:30\",\n",
    ")"
   ]
  },
  {
   "cell_type": "code",
   "execution_count": 287,
   "metadata": {},
   "outputs": [
    {
     "name": "stdout",
     "output_type": "stream",
     "text": [
      "WARNING: Log group '/aws/deepracer/leaderboard/SimulationJobs' doesn't have the following logs: ['sim-pgwjxc243ydf']\n"
     ]
    }
   ],
   "source": [
    "lm.fetch_leaderboard_logs_from_cloudwatch(\n",
    "    log_ids=['sim-pgwjxc243ydf']\n",
    ")"
   ]
  },
  {
   "cell_type": "markdown",
   "metadata": {},
   "source": [
    "## Generate Analysis Notebooks"
   ]
  },
  {
   "cell_type": "code",
   "execution_count": 277,
   "metadata": {},
   "outputs": [
    {
     "name": "stdout",
     "output_type": "stream",
     "text": [
      "[NbConvertApp] Converting notebook Log Analysis for Evaluation - sim-dd23yln209v0.ipynb to notebook\n",
      "[NbConvertApp] Executing notebook with kernel: python3\n",
      "[NbConvertApp] Writing 432953 bytes to Log Analysis for Evaluation - sim-dd23yln209v0.ipynb\n",
      "\n"
     ]
    }
   ],
   "source": [
    "lm.gen_analysis_notebook_for_cloudwatch_logs(log_ids=['sim-dd23yln209v0'])\n"
   ]
  },
  {
   "cell_type": "markdown",
   "metadata": {},
   "source": [
    "## Managing Logs Database"
   ]
  },
  {
   "cell_type": "markdown",
   "metadata": {},
   "source": [
    "- **Delete Log Entry From `cloudwatch_logs.csv`**"
   ]
  },
  {
   "cell_type": "code",
   "execution_count": 196,
   "metadata": {},
   "outputs": [
    {
     "name": "stdout",
     "output_type": "stream",
     "text": [
      "INFO: Deleting the following log entries: sim-w6x7cd1590p7\n",
      "Confirm deletion (y/N):  y\n",
      "INFO: Logs entries deleted successfully!\n"
     ]
    }
   ],
   "source": [
    "# This will not delete log file from disk\n",
    "\n",
    "lm.delete_cloudwatch_logs(log_ids=['sim-w6x7cd1590p7'])"
   ]
  },
  {
   "cell_type": "markdown",
   "metadata": {},
   "source": [
    "- **Load all logs (training, simulation-job, evaluation) from `cloudwatch_logs.csv`**"
   ]
  },
  {
   "cell_type": "code",
   "execution_count": 280,
   "metadata": {},
   "outputs": [
    {
     "data": {
      "text/html": [
       "<div>\n",
       "<style scoped>\n",
       "    .dataframe tbody tr th:only-of-type {\n",
       "        vertical-align: middle;\n",
       "    }\n",
       "\n",
       "    .dataframe tbody tr th {\n",
       "        vertical-align: top;\n",
       "    }\n",
       "\n",
       "    .dataframe thead th {\n",
       "        text-align: right;\n",
       "    }\n",
       "</style>\n",
       "<table border=\"1\" class=\"dataframe\">\n",
       "  <thead>\n",
       "    <tr style=\"text-align: right;\">\n",
       "      <th></th>\n",
       "      <th>id</th>\n",
       "      <th>model_name</th>\n",
       "      <th>log_type</th>\n",
       "      <th>world_name</th>\n",
       "      <th>fetched_at</th>\n",
       "      <th>first_event_timestamp</th>\n",
       "    </tr>\n",
       "  </thead>\n",
       "  <tbody>\n",
       "    <tr>\n",
       "      <td>6</td>\n",
       "      <td>sim-m2s1wlwf56jn</td>\n",
       "      <td>sept-8-v2-c2</td>\n",
       "      <td>leaderboard</td>\n",
       "      <td>MexicoAlt_track</td>\n",
       "      <td>2019-10-19 15:29:35</td>\n",
       "      <td>2019-09-17 14:03:53</td>\n",
       "    </tr>\n",
       "    <tr>\n",
       "      <td>0</td>\n",
       "      <td>sim-pgwjxc243ydf</td>\n",
       "      <td>oct-16-v1c1</td>\n",
       "      <td>simulation-job</td>\n",
       "      <td>Canada_Training</td>\n",
       "      <td>2019-10-19 14:57:25</td>\n",
       "      <td>2019-10-15 22:06:53</td>\n",
       "    </tr>\n",
       "    <tr>\n",
       "      <td>1</td>\n",
       "      <td>sim-pn7dmww50lj4</td>\n",
       "      <td>sept-8-v2-c2</td>\n",
       "      <td>evaluation</td>\n",
       "      <td>Mexico_track</td>\n",
       "      <td>2019-10-19 14:56:49</td>\n",
       "      <td>2019-09-08 11:07:50</td>\n",
       "    </tr>\n",
       "    <tr>\n",
       "      <td>2</td>\n",
       "      <td>sim-w6x7cd1590p7</td>\n",
       "      <td>sept-8-v2-c2</td>\n",
       "      <td>simulation-job</td>\n",
       "      <td>Mexico_track</td>\n",
       "      <td>2019-10-19 14:56:49</td>\n",
       "      <td>2019-09-08 08:48:25</td>\n",
       "    </tr>\n",
       "    <tr>\n",
       "      <td>3</td>\n",
       "      <td>sim-d328rkd1xg4j</td>\n",
       "      <td>sept-8-v2-c1</td>\n",
       "      <td>simulation-job</td>\n",
       "      <td>Mexico_track</td>\n",
       "      <td>2019-10-19 14:56:49</td>\n",
       "      <td>2019-09-08 08:43:52</td>\n",
       "    </tr>\n",
       "    <tr>\n",
       "      <td>4</td>\n",
       "      <td>sim-6lgs2d4dlf70</td>\n",
       "      <td>sept-8-v2</td>\n",
       "      <td>simulation-job</td>\n",
       "      <td>Mexico_track</td>\n",
       "      <td>2019-10-19 14:56:49</td>\n",
       "      <td>2019-09-08 06:42:11</td>\n",
       "    </tr>\n",
       "    <tr>\n",
       "      <td>5</td>\n",
       "      <td>sim-dd23yln209v0</td>\n",
       "      <td>NaN</td>\n",
       "      <td>evaluation</td>\n",
       "      <td>Mexico_track</td>\n",
       "      <td>2019-10-19 14:56:49</td>\n",
       "      <td>2019-09-08 04:18:21</td>\n",
       "    </tr>\n",
       "  </tbody>\n",
       "</table>\n",
       "</div>"
      ],
      "text/plain": [
       "                 id    model_name        log_type       world_name  \\\n",
       "6  sim-m2s1wlwf56jn  sept-8-v2-c2     leaderboard  MexicoAlt_track   \n",
       "0  sim-pgwjxc243ydf   oct-16-v1c1  simulation-job  Canada_Training   \n",
       "1  sim-pn7dmww50lj4  sept-8-v2-c2      evaluation     Mexico_track   \n",
       "2  sim-w6x7cd1590p7  sept-8-v2-c2  simulation-job     Mexico_track   \n",
       "3  sim-d328rkd1xg4j  sept-8-v2-c1  simulation-job     Mexico_track   \n",
       "4  sim-6lgs2d4dlf70     sept-8-v2  simulation-job     Mexico_track   \n",
       "5  sim-dd23yln209v0           NaN      evaluation     Mexico_track   \n",
       "\n",
       "            fetched_at first_event_timestamp  \n",
       "6  2019-10-19 15:29:35   2019-09-17 14:03:53  \n",
       "0  2019-10-19 14:57:25   2019-10-15 22:06:53  \n",
       "1  2019-10-19 14:56:49   2019-09-08 11:07:50  \n",
       "2  2019-10-19 14:56:49   2019-09-08 08:48:25  \n",
       "3  2019-10-19 14:56:49   2019-09-08 08:43:52  \n",
       "4  2019-10-19 14:56:49   2019-09-08 06:42:11  \n",
       "5  2019-10-19 14:56:49   2019-09-08 04:18:21  "
      ]
     },
     "execution_count": 280,
     "metadata": {},
     "output_type": "execute_result"
    }
   ],
   "source": [
    "all_logs = lm.load_all_cloudwatch_logs()\n",
    "\n",
    "all_logs"
   ]
  },
  {
   "cell_type": "markdown",
   "metadata": {},
   "source": [
    "- **Load `training-job` logs from `cloudwatch_logs.csv`** "
   ]
  },
  {
   "cell_type": "code",
   "execution_count": 281,
   "metadata": {},
   "outputs": [
    {
     "data": {
      "text/html": [
       "<div>\n",
       "<style scoped>\n",
       "    .dataframe tbody tr th:only-of-type {\n",
       "        vertical-align: middle;\n",
       "    }\n",
       "\n",
       "    .dataframe tbody tr th {\n",
       "        vertical-align: top;\n",
       "    }\n",
       "\n",
       "    .dataframe thead th {\n",
       "        text-align: right;\n",
       "    }\n",
       "</style>\n",
       "<table border=\"1\" class=\"dataframe\">\n",
       "  <thead>\n",
       "    <tr style=\"text-align: right;\">\n",
       "      <th></th>\n",
       "      <th>id</th>\n",
       "      <th>model_name</th>\n",
       "      <th>log_type</th>\n",
       "      <th>world_name</th>\n",
       "      <th>fetched_at</th>\n",
       "      <th>training_job_duration</th>\n",
       "      <th>cloned</th>\n",
       "      <th>first_event_timestamp</th>\n",
       "    </tr>\n",
       "  </thead>\n",
       "  <tbody>\n",
       "  </tbody>\n",
       "</table>\n",
       "</div>"
      ],
      "text/plain": [
       "Empty DataFrame\n",
       "Columns: [id, model_name, log_type, world_name, fetched_at, training_job_duration, cloned, first_event_timestamp]\n",
       "Index: []"
      ]
     },
     "execution_count": 281,
     "metadata": {},
     "output_type": "execute_result"
    }
   ],
   "source": [
    "training_logs = lm.load_cloudwatch_training_logs()\n",
    "\n",
    "training_logs"
   ]
  },
  {
   "cell_type": "markdown",
   "metadata": {},
   "source": [
    "- **Load `simlution-job` logs from `cloudwatch_logs.csv`**  "
   ]
  },
  {
   "cell_type": "code",
   "execution_count": 282,
   "metadata": {},
   "outputs": [
    {
     "data": {
      "text/html": [
       "<div>\n",
       "<style scoped>\n",
       "    .dataframe tbody tr th:only-of-type {\n",
       "        vertical-align: middle;\n",
       "    }\n",
       "\n",
       "    .dataframe tbody tr th {\n",
       "        vertical-align: top;\n",
       "    }\n",
       "\n",
       "    .dataframe thead th {\n",
       "        text-align: right;\n",
       "    }\n",
       "</style>\n",
       "<table border=\"1\" class=\"dataframe\">\n",
       "  <thead>\n",
       "    <tr style=\"text-align: right;\">\n",
       "      <th></th>\n",
       "      <th>id</th>\n",
       "      <th>model_name</th>\n",
       "      <th>log_type</th>\n",
       "      <th>world_name</th>\n",
       "      <th>fetched_at</th>\n",
       "      <th>first_event_timestamp</th>\n",
       "    </tr>\n",
       "  </thead>\n",
       "  <tbody>\n",
       "    <tr>\n",
       "      <td>0</td>\n",
       "      <td>sim-pgwjxc243ydf</td>\n",
       "      <td>oct-16-v1c1</td>\n",
       "      <td>simulation-job</td>\n",
       "      <td>Canada_Training</td>\n",
       "      <td>2019-10-19 14:57:25</td>\n",
       "      <td>2019-10-15 22:06:53</td>\n",
       "    </tr>\n",
       "    <tr>\n",
       "      <td>2</td>\n",
       "      <td>sim-w6x7cd1590p7</td>\n",
       "      <td>sept-8-v2-c2</td>\n",
       "      <td>simulation-job</td>\n",
       "      <td>Mexico_track</td>\n",
       "      <td>2019-10-19 14:56:49</td>\n",
       "      <td>2019-09-08 08:48:25</td>\n",
       "    </tr>\n",
       "    <tr>\n",
       "      <td>3</td>\n",
       "      <td>sim-d328rkd1xg4j</td>\n",
       "      <td>sept-8-v2-c1</td>\n",
       "      <td>simulation-job</td>\n",
       "      <td>Mexico_track</td>\n",
       "      <td>2019-10-19 14:56:49</td>\n",
       "      <td>2019-09-08 08:43:52</td>\n",
       "    </tr>\n",
       "    <tr>\n",
       "      <td>4</td>\n",
       "      <td>sim-6lgs2d4dlf70</td>\n",
       "      <td>sept-8-v2</td>\n",
       "      <td>simulation-job</td>\n",
       "      <td>Mexico_track</td>\n",
       "      <td>2019-10-19 14:56:49</td>\n",
       "      <td>2019-09-08 06:42:11</td>\n",
       "    </tr>\n",
       "  </tbody>\n",
       "</table>\n",
       "</div>"
      ],
      "text/plain": [
       "                 id    model_name        log_type       world_name  \\\n",
       "0  sim-pgwjxc243ydf   oct-16-v1c1  simulation-job  Canada_Training   \n",
       "2  sim-w6x7cd1590p7  sept-8-v2-c2  simulation-job     Mexico_track   \n",
       "3  sim-d328rkd1xg4j  sept-8-v2-c1  simulation-job     Mexico_track   \n",
       "4  sim-6lgs2d4dlf70     sept-8-v2  simulation-job     Mexico_track   \n",
       "\n",
       "            fetched_at first_event_timestamp  \n",
       "0  2019-10-19 14:57:25   2019-10-15 22:06:53  \n",
       "2  2019-10-19 14:56:49   2019-09-08 08:48:25  \n",
       "3  2019-10-19 14:56:49   2019-09-08 08:43:52  \n",
       "4  2019-10-19 14:56:49   2019-09-08 06:42:11  "
      ]
     },
     "execution_count": 282,
     "metadata": {},
     "output_type": "execute_result"
    }
   ],
   "source": [
    "sim_logs = lm.load_cloudwatch_sim_logs()\n",
    "\n",
    "sim_logs"
   ]
  },
  {
   "cell_type": "markdown",
   "metadata": {},
   "source": [
    "- **Load `evaluation` logs from `cloudwatch_logs.csv`**  "
   ]
  },
  {
   "cell_type": "code",
   "execution_count": 283,
   "metadata": {},
   "outputs": [
    {
     "data": {
      "text/html": [
       "<div>\n",
       "<style scoped>\n",
       "    .dataframe tbody tr th:only-of-type {\n",
       "        vertical-align: middle;\n",
       "    }\n",
       "\n",
       "    .dataframe tbody tr th {\n",
       "        vertical-align: top;\n",
       "    }\n",
       "\n",
       "    .dataframe thead th {\n",
       "        text-align: right;\n",
       "    }\n",
       "</style>\n",
       "<table border=\"1\" class=\"dataframe\">\n",
       "  <thead>\n",
       "    <tr style=\"text-align: right;\">\n",
       "      <th></th>\n",
       "      <th>id</th>\n",
       "      <th>model_name</th>\n",
       "      <th>log_type</th>\n",
       "      <th>world_name</th>\n",
       "      <th>n_trials</th>\n",
       "      <th>fetched_at</th>\n",
       "      <th>first_event_timestamp</th>\n",
       "    </tr>\n",
       "  </thead>\n",
       "  <tbody>\n",
       "    <tr>\n",
       "      <td>1</td>\n",
       "      <td>sim-pn7dmww50lj4</td>\n",
       "      <td>sept-8-v2-c2</td>\n",
       "      <td>evaluation</td>\n",
       "      <td>Mexico_track</td>\n",
       "      <td>3.0</td>\n",
       "      <td>2019-10-19 14:56:49</td>\n",
       "      <td>2019-09-08 11:07:50</td>\n",
       "    </tr>\n",
       "    <tr>\n",
       "      <td>5</td>\n",
       "      <td>sim-dd23yln209v0</td>\n",
       "      <td>NaN</td>\n",
       "      <td>evaluation</td>\n",
       "      <td>Mexico_track</td>\n",
       "      <td>3.0</td>\n",
       "      <td>2019-10-19 14:56:49</td>\n",
       "      <td>2019-09-08 04:18:21</td>\n",
       "    </tr>\n",
       "  </tbody>\n",
       "</table>\n",
       "</div>"
      ],
      "text/plain": [
       "                 id    model_name    log_type    world_name  n_trials  \\\n",
       "1  sim-pn7dmww50lj4  sept-8-v2-c2  evaluation  Mexico_track       3.0   \n",
       "5  sim-dd23yln209v0           NaN  evaluation  Mexico_track       3.0   \n",
       "\n",
       "            fetched_at first_event_timestamp  \n",
       "1  2019-10-19 14:56:49   2019-09-08 11:07:50  \n",
       "5  2019-10-19 14:56:49   2019-09-08 04:18:21  "
      ]
     },
     "execution_count": 283,
     "metadata": {},
     "output_type": "execute_result"
    }
   ],
   "source": [
    "eval_logs = lm.load_cloudwatch_eval_logs()\n",
    "\n",
    "eval_logs"
   ]
  },
  {
   "cell_type": "markdown",
   "metadata": {},
   "source": [
    "- **Load `leaderboard` logs from `cloudwatch_logs.csv`**  "
   ]
  },
  {
   "cell_type": "code",
   "execution_count": 285,
   "metadata": {},
   "outputs": [
    {
     "data": {
      "text/html": [
       "<div>\n",
       "<style scoped>\n",
       "    .dataframe tbody tr th:only-of-type {\n",
       "        vertical-align: middle;\n",
       "    }\n",
       "\n",
       "    .dataframe tbody tr th {\n",
       "        vertical-align: top;\n",
       "    }\n",
       "\n",
       "    .dataframe thead th {\n",
       "        text-align: right;\n",
       "    }\n",
       "</style>\n",
       "<table border=\"1\" class=\"dataframe\">\n",
       "  <thead>\n",
       "    <tr style=\"text-align: right;\">\n",
       "      <th></th>\n",
       "      <th>id</th>\n",
       "      <th>model_name</th>\n",
       "      <th>log_type</th>\n",
       "      <th>world_name</th>\n",
       "      <th>n_trials</th>\n",
       "      <th>fetched_at</th>\n",
       "      <th>first_event_timestamp</th>\n",
       "    </tr>\n",
       "  </thead>\n",
       "  <tbody>\n",
       "    <tr>\n",
       "      <td>6</td>\n",
       "      <td>sim-m2s1wlwf56jn</td>\n",
       "      <td>sept-8-v2-c2</td>\n",
       "      <td>leaderboard</td>\n",
       "      <td>MexicoAlt_track</td>\n",
       "      <td>5.0</td>\n",
       "      <td>2019-10-19 15:29:35</td>\n",
       "      <td>2019-09-17 14:03:53</td>\n",
       "    </tr>\n",
       "  </tbody>\n",
       "</table>\n",
       "</div>"
      ],
      "text/plain": [
       "                 id    model_name     log_type       world_name  n_trials  \\\n",
       "6  sim-m2s1wlwf56jn  sept-8-v2-c2  leaderboard  MexicoAlt_track       5.0   \n",
       "\n",
       "            fetched_at first_event_timestamp  \n",
       "6  2019-10-19 15:29:35   2019-09-17 14:03:53  "
      ]
     },
     "execution_count": 285,
     "metadata": {},
     "output_type": "execute_result"
    }
   ],
   "source": [
    "leaderboard_logs = lm.load_cloudwatch_leaderboard_logs()\n",
    "\n",
    "leaderboard_logs"
   ]
  },
  {
   "cell_type": "markdown",
   "metadata": {},
   "source": [
    "## Perform Operation on Loaded Logs"
   ]
  },
  {
   "cell_type": "code",
   "execution_count": null,
   "metadata": {},
   "outputs": [],
   "source": []
  },
  {
   "cell_type": "code",
   "execution_count": null,
   "metadata": {},
   "outputs": [],
   "source": []
  }
 ],
 "metadata": {
  "kernelspec": {
   "display_name": "Python 3",
   "language": "python",
   "name": "python3"
  },
  "language_info": {
   "codemirror_mode": {
    "name": "ipython",
    "version": 3
   },
   "file_extension": ".py",
   "mimetype": "text/x-python",
   "name": "python",
   "nbconvert_exporter": "python",
   "pygments_lexer": "ipython3",
   "version": "3.7.4"
  }
 },
 "nbformat": 4,
 "nbformat_minor": 2
}
