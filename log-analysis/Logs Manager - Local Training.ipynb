{
 "cells": [
  {
   "cell_type": "markdown",
   "metadata": {},
   "source": [
    "# Local Training Logs Manager\n",
    "\n",
    "Not Implemented Yet - In Progress"
   ]
  },
  {
   "cell_type": "code",
   "execution_count": 1,
   "metadata": {},
   "outputs": [
    {
     "name": "stdout",
     "output_type": "stream",
     "text": [
      "Installed boto version meets the minimum requirements, '1.9.196' >= '1.9.133'\n"
     ]
    }
   ],
   "source": [
    "# Python Module Imports\n",
    "import sys\n",
    "\n",
    "from datetime import datetime\n",
    "\n",
    "# Data Analysis Modules\n",
    "import numpy as np\n",
    "import pandas as pd\n",
    "pd.DataFrame\n",
    "# Plotting Modules Imports\n",
    "import matplotlib.pyplot as plt\n",
    "%matplotlib inline\n",
    "\n",
    "# Shapely Module Imports\n",
    "from shapely.geometry import Point, Polygon\n",
    "from shapely.geometry.polygon import LinearRing, LineString\n",
    "\n",
    "# Custom Module Imports\n",
    "import track_utils as tu\n",
    "import log_analysis as la\n",
    "import cw_utils as cw\n",
    "import log_manager as lm\n",
    "\n",
    "# Make sure your boto version is >= '1.9.133'\n",
    "lm.validate_boto_version()"
   ]
  },
  {
   "cell_type": "code",
   "execution_count": 2,
   "metadata": {},
   "outputs": [],
   "source": [
    "def reload_custom_modules():\n",
    "    \"\"\" Reload custom modules (ex: cw_utils) in case any changes is done to them \"\"\"\n",
    "    \n",
    "    import importlib\n",
    "\n",
    "    importlib.reload(la)\n",
    "    importlib.reload(lm)\n",
    "    importlib.reload(cw)\n",
    "    importlib.reload(tu)"
   ]
  },
  {
   "cell_type": "code",
   "execution_count": 3,
   "metadata": {},
   "outputs": [],
   "source": [
    "reload_custom_modules()"
   ]
  },
  {
   "cell_type": "code",
   "execution_count": null,
   "metadata": {},
   "outputs": [],
   "source": []
  }
 ],
 "metadata": {
  "kernelspec": {
   "display_name": "Python 3",
   "language": "python",
   "name": "python3"
  },
  "language_info": {
   "codemirror_mode": {
    "name": "ipython",
    "version": 3
   },
   "file_extension": ".py",
   "mimetype": "text/x-python",
   "name": "python",
   "nbconvert_exporter": "python",
   "pygments_lexer": "ipython3",
   "version": "3.7.4"
  }
 },
 "nbformat": 4,
 "nbformat_minor": 2
}
